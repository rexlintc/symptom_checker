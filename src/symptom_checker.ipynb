{
 "cells": [
  {
   "cell_type": "code",
   "execution_count": 1,
   "metadata": {},
   "outputs": [
    {
     "name": "stdout",
     "output_type": "stream",
     "text": [
      "3.6.8 |Anaconda, Inc.| (default, Dec 29 2018, 19:04:46) \n",
      "[GCC 4.2.1 Compatible Clang 4.0.1 (tags/RELEASE_401/final)]\n"
     ]
    }
   ],
   "source": [
    "import sys\n",
    "print(sys.version)"
   ]
  },
  {
   "cell_type": "code",
   "execution_count": 114,
   "metadata": {},
   "outputs": [],
   "source": [
    "import pandas as pd\n",
    "import numpy as np\n",
    "from sklearn.model_selection import train_test_split, cross_val_score, RandomizedSearchCV, StratifiedKFold\n",
    "from sklearn.utils import shuffle\n",
    "from sklearn.cluster import DBSCAN\n",
    "from sklearn.ensemble import RandomForestClassifier\n",
    "from sklearn import preprocessing\n",
    "from sklearn.pipeline import make_pipeline\n",
    "from sklearn.metrics import precision_recall_fscore_support\n",
    "import matplotlib.pyplot as plt\n",
    "from matplotlib import pyplot\n",
    "from matplotlib import cm\n",
    "from mpl_toolkits.mplot3d import Axes3D\n",
    "import seaborn as sns\n",
    "sns.set(style=\"ticks\", color_codes=True)\n",
    "\n",
    "from hpsklearn import HyperoptEstimator, ada_boost, gradient_boosting, random_forest, extra_trees, xgboost_classification\n",
    "from hyperopt import tpe\n",
    "from hyperopt import STATUS_OK, Trials, fmin, hp, tpe\n",
    "from xgboost import XGBClassifier\n",
    "import xgboost as xgb\n",
    "import time\n",
    "import warnings"
   ]
  },
  {
   "cell_type": "code",
   "execution_count": 3,
   "metadata": {},
   "outputs": [
    {
     "name": "stdout",
     "output_type": "stream",
     "text": [
      "pandas version: 0.25.0\n"
     ]
    }
   ],
   "source": [
    "print('pandas version:', pd.__version__)"
   ]
  },
  {
   "cell_type": "markdown",
   "metadata": {},
   "source": [
    "Table of Content\n",
    "1. [Goal of This Project](#section1)\n",
    "2. [Train-Test Split](#section2)\n",
    "3. [Exploratory Data Analysis (EDA)](#section3)\n",
    "4. [Preprocessing](#section4)\n",
    "5. [Modeling](#section5)\n",
    "6. [Error Analysis](#section6)\n",
    "7. [Feature Selection](#section7)\n",
    "8. [Reflection](#section8)"
   ]
  },
  {
   "cell_type": "markdown",
   "metadata": {},
   "source": [
    "<a id='#section1'></a>\n",
    "### 1. Goal of This Project\n",
    "\n",
    "> to build a ML model that predicts the Diagnosis (DX), based on symptoms and other factors."
   ]
  },
  {
   "cell_type": "markdown",
   "metadata": {},
   "source": [
    "<a id='#section2'></a>\n",
    "### 2. Train-Test split\n",
    "\n",
    "> Following the golden rule of machine learning, I will set 30% data aside as a test set and keep 70% as training. Exploratory data analysis will be performed on the training data only."
   ]
  },
  {
   "cell_type": "code",
   "execution_count": 4,
   "metadata": {},
   "outputs": [],
   "source": [
    "data_table = pd.read_csv('../data/data_challenge.csv', index_col= 0)"
   ]
  },
  {
   "cell_type": "code",
   "execution_count": 5,
   "metadata": {},
   "outputs": [],
   "source": [
    "np.random.seed(123)\n",
    "shuffled_data_table = shuffle(data_table)"
   ]
  },
  {
   "cell_type": "markdown",
   "metadata": {},
   "source": [
    "> Inspect the dimension of this data set."
   ]
  },
  {
   "cell_type": "code",
   "execution_count": 6,
   "metadata": {},
   "outputs": [
    {
     "data": {
      "text/plain": [
       "(71662, 6)"
      ]
     },
     "execution_count": 6,
     "metadata": {},
     "output_type": "execute_result"
    }
   ],
   "source": [
    "shuffled_data_table.shape"
   ]
  },
  {
   "cell_type": "code",
   "execution_count": 7,
   "metadata": {},
   "outputs": [],
   "source": [
    "target_index = round(shuffled_data_table.shape[0]*0.70)\n",
    "training_data = shuffled_data_table[:target_index]\n",
    "test_data = shuffled_data_table[target_index:]"
   ]
  },
  {
   "cell_type": "code",
   "execution_count": 8,
   "metadata": {},
   "outputs": [
    {
     "data": {
      "text/plain": [
       "(50163, 6)"
      ]
     },
     "execution_count": 8,
     "metadata": {},
     "output_type": "execute_result"
    }
   ],
   "source": [
    "training_data.shape"
   ]
  },
  {
   "cell_type": "code",
   "execution_count": 9,
   "metadata": {},
   "outputs": [
    {
     "data": {
      "text/plain": [
       "(21499, 6)"
      ]
     },
     "execution_count": 9,
     "metadata": {},
     "output_type": "execute_result"
    }
   ],
   "source": [
    "test_data.shape"
   ]
  },
  {
   "cell_type": "markdown",
   "metadata": {},
   "source": [
    "<a id='#section3'></a>\n",
    "### 3. Exploratory Data Anlysis (EDA)"
   ]
  },
  {
   "cell_type": "code",
   "execution_count": 10,
   "metadata": {},
   "outputs": [
    {
     "data": {
      "text/html": [
       "<div>\n",
       "<style scoped>\n",
       "    .dataframe tbody tr th:only-of-type {\n",
       "        vertical-align: middle;\n",
       "    }\n",
       "\n",
       "    .dataframe tbody tr th {\n",
       "        vertical-align: top;\n",
       "    }\n",
       "\n",
       "    .dataframe thead th {\n",
       "        text-align: right;\n",
       "    }\n",
       "</style>\n",
       "<table border=\"1\" class=\"dataframe\">\n",
       "  <thead>\n",
       "    <tr style=\"text-align: right;\">\n",
       "      <th></th>\n",
       "      <th>DX</th>\n",
       "      <th>AGE</th>\n",
       "      <th>MONTH</th>\n",
       "      <th>SEX</th>\n",
       "      <th>Absent</th>\n",
       "      <th>Present</th>\n",
       "    </tr>\n",
       "  </thead>\n",
       "  <tbody>\n",
       "    <tr>\n",
       "      <th>10356</th>\n",
       "      <td>c_0608</td>\n",
       "      <td>0.0</td>\n",
       "      <td>3</td>\n",
       "      <td>1</td>\n",
       "      <td>NaN</td>\n",
       "      <td>s_0906, s_0084, s_0400, s_0097, s_0309, s_0180</td>\n",
       "    </tr>\n",
       "    <tr>\n",
       "      <th>34268</th>\n",
       "      <td>c_0036</td>\n",
       "      <td>75.0</td>\n",
       "      <td>3</td>\n",
       "      <td>0</td>\n",
       "      <td>s_0911, s_0070, s_0400, s_0136, s_0242, s_0078...</td>\n",
       "      <td>s_0553, s_1050, s_0246, s_2734, s_2755, s_0533...</td>\n",
       "    </tr>\n",
       "    <tr>\n",
       "      <th>5939</th>\n",
       "      <td>c_0608</td>\n",
       "      <td>16.0</td>\n",
       "      <td>2</td>\n",
       "      <td>1</td>\n",
       "      <td>s_0553, s_2740</td>\n",
       "      <td>s_0400, s_0309, s_0084, s_0826, s_0180</td>\n",
       "    </tr>\n",
       "    <tr>\n",
       "      <th>65521</th>\n",
       "      <td>c_0608</td>\n",
       "      <td>0.0</td>\n",
       "      <td>9</td>\n",
       "      <td>0</td>\n",
       "      <td>s_0106, s_0136, s_0002, s_0542, s_0837, s_0084...</td>\n",
       "      <td>s_0443, s_0363, s_2734</td>\n",
       "    </tr>\n",
       "    <tr>\n",
       "      <th>59578</th>\n",
       "      <td>c_0608</td>\n",
       "      <td>16.0</td>\n",
       "      <td>3</td>\n",
       "      <td>1</td>\n",
       "      <td>s_0070, s_0106, s_1050, s_0400, s_0242, s_0120...</td>\n",
       "      <td>s_0445, s_0478, s_0084</td>\n",
       "    </tr>\n",
       "    <tr>\n",
       "      <th>8533</th>\n",
       "      <td>c_0273</td>\n",
       "      <td>28.0</td>\n",
       "      <td>9</td>\n",
       "      <td>1</td>\n",
       "      <td>s_1611, s_0120, s_0542, s_2563</td>\n",
       "      <td>s_1211, s_0256</td>\n",
       "    </tr>\n",
       "  </tbody>\n",
       "</table>\n",
       "</div>"
      ],
      "text/plain": [
       "           DX   AGE  MONTH  SEX  \\\n",
       "10356  c_0608   0.0      3    1   \n",
       "34268  c_0036  75.0      3    0   \n",
       "5939   c_0608  16.0      2    1   \n",
       "65521  c_0608   0.0      9    0   \n",
       "59578  c_0608  16.0      3    1   \n",
       "8533   c_0273  28.0      9    1   \n",
       "\n",
       "                                                  Absent  \\\n",
       "10356                                                NaN   \n",
       "34268  s_0911, s_0070, s_0400, s_0136, s_0242, s_0078...   \n",
       "5939                                      s_0553, s_2740   \n",
       "65521  s_0106, s_0136, s_0002, s_0542, s_0837, s_0084...   \n",
       "59578  s_0070, s_0106, s_1050, s_0400, s_0242, s_0120...   \n",
       "8533                      s_1611, s_0120, s_0542, s_2563   \n",
       "\n",
       "                                                 Present  \n",
       "10356     s_0906, s_0084, s_0400, s_0097, s_0309, s_0180  \n",
       "34268  s_0553, s_1050, s_0246, s_2734, s_2755, s_0533...  \n",
       "5939              s_0400, s_0309, s_0084, s_0826, s_0180  \n",
       "65521                             s_0443, s_0363, s_2734  \n",
       "59578                             s_0445, s_0478, s_0084  \n",
       "8533                                      s_1211, s_0256  "
      ]
     },
     "execution_count": 10,
     "metadata": {},
     "output_type": "execute_result"
    }
   ],
   "source": [
    "training_data.head(6)"
   ]
  },
  {
   "cell_type": "code",
   "execution_count": 11,
   "metadata": {},
   "outputs": [
    {
     "data": {
      "text/html": [
       "<div>\n",
       "<style scoped>\n",
       "    .dataframe tbody tr th:only-of-type {\n",
       "        vertical-align: middle;\n",
       "    }\n",
       "\n",
       "    .dataframe tbody tr th {\n",
       "        vertical-align: top;\n",
       "    }\n",
       "\n",
       "    .dataframe thead th {\n",
       "        text-align: right;\n",
       "    }\n",
       "</style>\n",
       "<table border=\"1\" class=\"dataframe\">\n",
       "  <thead>\n",
       "    <tr style=\"text-align: right;\">\n",
       "      <th></th>\n",
       "      <th>AGE</th>\n",
       "      <th>MONTH</th>\n",
       "      <th>SEX</th>\n",
       "    </tr>\n",
       "  </thead>\n",
       "  <tbody>\n",
       "    <tr>\n",
       "      <th>count</th>\n",
       "      <td>50163.000000</td>\n",
       "      <td>50163.000000</td>\n",
       "      <td>50163.000000</td>\n",
       "    </tr>\n",
       "    <tr>\n",
       "      <th>mean</th>\n",
       "      <td>32.348564</td>\n",
       "      <td>6.205590</td>\n",
       "      <td>0.410243</td>\n",
       "    </tr>\n",
       "    <tr>\n",
       "      <th>std</th>\n",
       "      <td>20.144386</td>\n",
       "      <td>3.529732</td>\n",
       "      <td>0.491883</td>\n",
       "    </tr>\n",
       "    <tr>\n",
       "      <th>min</th>\n",
       "      <td>0.000000</td>\n",
       "      <td>1.000000</td>\n",
       "      <td>0.000000</td>\n",
       "    </tr>\n",
       "    <tr>\n",
       "      <th>25%</th>\n",
       "      <td>19.000000</td>\n",
       "      <td>3.000000</td>\n",
       "      <td>0.000000</td>\n",
       "    </tr>\n",
       "    <tr>\n",
       "      <th>50%</th>\n",
       "      <td>32.000000</td>\n",
       "      <td>6.000000</td>\n",
       "      <td>0.000000</td>\n",
       "    </tr>\n",
       "    <tr>\n",
       "      <th>75%</th>\n",
       "      <td>45.000000</td>\n",
       "      <td>9.000000</td>\n",
       "      <td>1.000000</td>\n",
       "    </tr>\n",
       "    <tr>\n",
       "      <th>max</th>\n",
       "      <td>161.000000</td>\n",
       "      <td>12.000000</td>\n",
       "      <td>1.000000</td>\n",
       "    </tr>\n",
       "  </tbody>\n",
       "</table>\n",
       "</div>"
      ],
      "text/plain": [
       "                AGE         MONTH           SEX\n",
       "count  50163.000000  50163.000000  50163.000000\n",
       "mean      32.348564      6.205590      0.410243\n",
       "std       20.144386      3.529732      0.491883\n",
       "min        0.000000      1.000000      0.000000\n",
       "25%       19.000000      3.000000      0.000000\n",
       "50%       32.000000      6.000000      0.000000\n",
       "75%       45.000000      9.000000      1.000000\n",
       "max      161.000000     12.000000      1.000000"
      ]
     },
     "execution_count": 11,
     "metadata": {},
     "output_type": "execute_result"
    }
   ],
   "source": [
    "training_data.describe()"
   ]
  },
  {
   "cell_type": "markdown",
   "metadata": {},
   "source": [
    "> `NaN` values seem to be present in this data set.\n",
    "\n",
    "**Inspect NaN**\n",
    "\n",
    "> Count the numbers of `NaN` in each column."
   ]
  },
  {
   "cell_type": "code",
   "execution_count": 12,
   "metadata": {},
   "outputs": [
    {
     "data": {
      "text/plain": [
       "DX            0\n",
       "AGE           0\n",
       "MONTH         0\n",
       "SEX           0\n",
       "Absent     5133\n",
       "Present    3691\n",
       "dtype: int64"
      ]
     },
     "execution_count": 12,
     "metadata": {},
     "output_type": "execute_result"
    }
   ],
   "source": [
    "training_data.isnull().sum()"
   ]
  },
  {
   "cell_type": "markdown",
   "metadata": {},
   "source": [
    "> Calculate the percent of missing values for `Absent` symptoms."
   ]
  },
  {
   "cell_type": "code",
   "execution_count": 13,
   "metadata": {},
   "outputs": [
    {
     "data": {
      "text/plain": [
       "0.10232641588421745"
      ]
     },
     "execution_count": 13,
     "metadata": {},
     "output_type": "execute_result"
    }
   ],
   "source": [
    "training_data.isnull().sum()[4]/training_data.shape[0]"
   ]
  },
  {
   "cell_type": "markdown",
   "metadata": {},
   "source": [
    "> Calculate the percent of missing values for `Present` symptoms."
   ]
  },
  {
   "cell_type": "code",
   "execution_count": 14,
   "metadata": {},
   "outputs": [
    {
     "data": {
      "text/plain": [
       "0.07358012878017663"
      ]
     },
     "execution_count": 14,
     "metadata": {},
     "output_type": "execute_result"
    }
   ],
   "source": [
    "training_data.isnull().sum()[5]/training_data.shape[0]"
   ]
  },
  {
   "cell_type": "markdown",
   "metadata": {},
   "source": [
    "> The `Absent` symptoms feature has roughly 10% of its data missing while the `Present` symptoms feature has 7% of its data missing. Test data should have `NaN` as well.\n",
    "\n",
    "> I consider removing the rows with `NaN` a naive approach that will result in lost of valuable information because `age`, `month` and `sex` are still valuable features in the same row. The `age`, `month` and `sex` features are complete in the data set and can still be leveraged to buuld a ML model. \n",
    "\n",
    "> One strategy to handle `NaN` is to apply multiple imputation (`sklearn`: `IterativeImputer`) or simple imputation (`sklearn`: `SimpleImputer`) to fill the blanks. Since the `Absent` and `Present` symptoms are essentially categorical. When I preprocess the `Absent` and `Present` symptoms using one-hot encoding, I will make `NaN` as a feature. \n",
    "\n",
    "> Using `NaN` as a feature is inspired by Rohan's hint: '\"Keep in mind that there may other potential symptoms the patient was never asked about, which are neither “present” nor “absent”.'"
   ]
  },
  {
   "cell_type": "markdown",
   "metadata": {},
   "source": [
    "**Inspect DX**"
   ]
  },
  {
   "cell_type": "code",
   "execution_count": 15,
   "metadata": {},
   "outputs": [
    {
     "data": {
      "image/png": "[encoded data removed]",
      "text/plain": [
       "<Figure size 432x288 with 1 Axes>"
      ]
     },
     "metadata": {
      "needs_background": "light"
     },
     "output_type": "display_data"
    }
   ],
   "source": [
    "training_data['DX'].value_counts().plot(kind='bar')\n",
    "plt.xticks(rotation=60)\n",
    "plt.show()"
   ]
  },
  {
   "cell_type": "code",
   "execution_count": 16,
   "metadata": {},
   "outputs": [
    {
     "data": {
      "text/plain": [
       "(25,)"
      ]
     },
     "execution_count": 16,
     "metadata": {},
     "output_type": "execute_result"
    }
   ],
   "source": [
    "training_data['DX'].unique().shape"
   ]
  },
  {
   "cell_type": "markdown",
   "metadata": {},
   "source": [
    "> There are 25 diagonses (25 labels) present in this data set."
   ]
  },
  {
   "cell_type": "code",
   "execution_count": 17,
   "metadata": {},
   "outputs": [
    {
     "data": {
      "text/plain": [
       "c_0608    0.213424\n",
       "c_0152    0.176684\n",
       "c_0145    0.089668\n",
       "c_0036    0.080518\n",
       "c_0008    0.050495\n",
       "c_0273    0.047346\n",
       "c_0497    0.044953\n",
       "c_0196    0.044934\n",
       "c_0183    0.043060\n",
       "c_0133    0.043040\n",
       "c_0499    0.036003\n",
       "c_0187    0.035365\n",
       "c_0144    0.030999\n",
       "c_0720    0.015230\n",
       "c_0655    0.013476\n",
       "c_0206    0.009429\n",
       "c_0250    0.006838\n",
       "c_0055    0.005801\n",
       "c_0050    0.003030\n",
       "c_0184    0.001954\n",
       "c_0056    0.001834\n",
       "c_0500    0.001615\n",
       "c_0604    0.001555\n",
       "c_0094    0.001515\n",
       "c_0498    0.001236\n",
       "Name: DX, dtype: float64"
      ]
     },
     "execution_count": 17,
     "metadata": {},
     "output_type": "execute_result"
    }
   ],
   "source": [
    "training_data['DX'].value_counts()/training_data['DX'].count()"
   ]
  },
  {
   "cell_type": "markdown",
   "metadata": {},
   "source": [
    "> We have a class imbalance issue in \"DX\". 'c_0608' accounts for 21% of the diagnosis and 'c_0152' accounts for 18% of the diagnosis."
   ]
  },
  {
   "cell_type": "markdown",
   "metadata": {},
   "source": [
    "**Inspect AGE**"
   ]
  },
  {
   "cell_type": "code",
   "execution_count": 18,
   "metadata": {},
   "outputs": [
    {
     "data": {
      "text/plain": [
       "<matplotlib.axes._subplots.AxesSubplot at 0x1a20871a90>"
      ]
     },
     "execution_count": 18,
     "metadata": {},
     "output_type": "execute_result"
    },
    {
     "data": {
      "image/png": "[encoded data removed]",
      "text/plain": [
       "<Figure size 432x288 with 1 Axes>"
      ]
     },
     "metadata": {
      "needs_background": "light"
     },
     "output_type": "display_data"
    }
   ],
   "source": [
    "sns.distplot(training_data['AGE'], kde=False, rug=True)"
   ]
  },
  {
   "cell_type": "code",
   "execution_count": 19,
   "metadata": {},
   "outputs": [
    {
     "data": {
      "text/plain": [
       "<matplotlib.axes._subplots.AxesSubplot at 0x1a2194b940>"
      ]
     },
     "execution_count": 19,
     "metadata": {},
     "output_type": "execute_result"
    },
    {
     "data": {
      "image/png": "[encoded data removed]",
      "text/plain": [
       "<Figure size 432x288 with 1 Axes>"
      ]
     },
     "metadata": {
      "needs_background": "light"
     },
     "output_type": "display_data"
    }
   ],
   "source": [
    "sns.boxplot(x=training_data['AGE'])"
   ]
  },
  {
   "cell_type": "markdown",
   "metadata": {},
   "source": [
    "> It appears that this patient of age 161 is an outlier. This outlier may be a result of data entry error because the oldest human on 2018 Guinness World Record is 112 years old and he lives in Japan.\n",
    "\n",
    "> Possibility 1: It was meant to be 16 years old instead of 161.\n",
    "\n",
    "> Possibility 2: It was meant to be 61 years old instead of 161.\n",
    "\n",
    "> Possibility 3: It was meant to be another age but not 16, 61 or 161 years old.\n",
    "\n",
    "> I will use DBSCAN to try to identify outlier's age group."
   ]
  },
  {
   "cell_type": "code",
   "execution_count": 20,
   "metadata": {},
   "outputs": [],
   "source": [
    "training_data_age_outlier = pd.DataFrame(training_data, columns = ['AGE', 'MONTH', 'SEX'])\n",
    "\n",
    "\n",
    "# ref: https://www.mikulskibartosz.name/outlier-detection-with-scikit-learn/\n",
    "outlier_detection = DBSCAN(\n",
    "  eps = 20,\n",
    "  metric=\"euclidean\",\n",
    "  min_samples = 12,\n",
    "  n_jobs = -1)\n",
    "clusters = outlier_detection.fit_predict(training_data_age_outlier)"
   ]
  },
  {
   "cell_type": "code",
   "execution_count": 21,
   "metadata": {},
   "outputs": [
    {
     "data": {
      "text/plain": [
       "array([0, 0, 0, ..., 0, 0, 0])"
      ]
     },
     "execution_count": 21,
     "metadata": {},
     "output_type": "execute_result"
    }
   ],
   "source": [
    "clusters"
   ]
  },
  {
   "cell_type": "code",
   "execution_count": 22,
   "metadata": {},
   "outputs": [],
   "source": [
    "cmap = cm.get_cmap('Accent')"
   ]
  },
  {
   "cell_type": "code",
   "execution_count": 23,
   "metadata": {},
   "outputs": [],
   "source": [
    "cmap = cm.get_cmap('Accent')"
   ]
  },
  {
   "cell_type": "code",
   "execution_count": 24,
   "metadata": {},
   "outputs": [
    {
     "data": {
      "image/png": "[encoded data removed]",
      "text/plain": [
       "<Figure size 432x288 with 1 Axes>"
      ]
     },
     "metadata": {
      "needs_background": "light"
     },
     "output_type": "display_data"
    }
   ],
   "source": [
    "fig = pyplot.figure()\n",
    "ax = Axes3D(fig)\n",
    "ax.set_xlabel('MONTH')\n",
    "ax.set_ylabel('SEX')\n",
    "ax.set_zlabel('AGE')\n",
    "ax.scatter(training_data_age_outlier['MONTH'], \n",
    "           training_data_age_outlier['SEX'], \n",
    "           training_data_age_outlier['AGE'],\n",
    "           c = clusters,\n",
    "          cmap = cmap)\n",
    "pyplot.show()"
   ]
  },
  {
   "cell_type": "code",
   "execution_count": 25,
   "metadata": {},
   "outputs": [],
   "source": [
    "training_data_age_vs_month = pd.DataFrame(training_data, columns = ['AGE', 'MONTH'])\n",
    "\n",
    "outlier_detection2 = DBSCAN(\n",
    "  eps = 20,\n",
    "  metric=\"euclidean\",\n",
    "  min_samples = 12,\n",
    "  n_jobs = -1)\n",
    "clusters2 = outlier_detection2.fit_predict(training_data_age_vs_month)"
   ]
  },
  {
   "cell_type": "code",
   "execution_count": 26,
   "metadata": {},
   "outputs": [
    {
     "data": {
      "text/plain": [
       "<matplotlib.axes._subplots.AxesSubplot at 0x1c701944e0>"
      ]
     },
     "execution_count": 26,
     "metadata": {},
     "output_type": "execute_result"
    },
    {
     "data": {
      "image/png": "[encoded data removed]",
      "text/plain": [
       "<Figure size 432x288 with 1 Axes>"
      ]
     },
     "metadata": {
      "needs_background": "light"
     },
     "output_type": "display_data"
    }
   ],
   "source": [
    "training_data_age_vs_month.plot.scatter(\n",
    "  x = \"AGE\",\n",
    "  y = \"MONTH\",\n",
    "  c = clusters2,\n",
    "  cmap = cmap,\n",
    "  colorbar = False\n",
    ")"
   ]
  },
  {
   "cell_type": "code",
   "execution_count": 27,
   "metadata": {},
   "outputs": [],
   "source": [
    "training_data_age_vs_sex = pd.DataFrame(training_data, columns = ['AGE', 'SEX'])\n",
    "\n",
    "outlier_detection3 = DBSCAN(\n",
    "  eps = 20,\n",
    "  metric=\"euclidean\",\n",
    "  min_samples = 12,\n",
    "  n_jobs = -1)\n",
    "clusters3 = outlier_detection3.fit_predict(training_data_age_vs_sex)"
   ]
  },
  {
   "cell_type": "code",
   "execution_count": 28,
   "metadata": {},
   "outputs": [
    {
     "data": {
      "text/plain": [
       "<matplotlib.axes._subplots.AxesSubplot at 0x1c787c0c18>"
      ]
     },
     "execution_count": 28,
     "metadata": {},
     "output_type": "execute_result"
    },
    {
     "data": {
      "image/png": "[encoded data removed]",
      "text/plain": [
       "<Figure size 432x288 with 1 Axes>"
      ]
     },
     "metadata": {
      "needs_background": "light"
     },
     "output_type": "display_data"
    }
   ],
   "source": [
    "training_data_age_vs_sex.plot.scatter(\n",
    "  x = \"AGE\",\n",
    "  y = \"SEX\",\n",
    "  c = clusters3,\n",
    "  cmap = cmap,\n",
    "  colorbar = False\n",
    ")"
   ]
  },
  {
   "cell_type": "markdown",
   "metadata": {},
   "source": [
    "> These visuals do not help me identify the proper age group of this outlier. I need to do clustering again after I encode the `Present` and `Absent` symptoms as features."
   ]
  },
  {
   "cell_type": "markdown",
   "metadata": {},
   "source": [
    "**Inspect MONTH**"
   ]
  },
  {
   "cell_type": "code",
   "execution_count": 29,
   "metadata": {},
   "outputs": [
    {
     "data": {
      "text/plain": [
       "<matplotlib.axes._subplots.AxesSubplot at 0x1c70123f28>"
      ]
     },
     "execution_count": 29,
     "metadata": {},
     "output_type": "execute_result"
    },
    {
     "data": {
      "image/png": "[encoded data removed]",
      "text/plain": [
       "<Figure size 432x288 with 1 Axes>"
      ]
     },
     "metadata": {
      "needs_background": "light"
     },
     "output_type": "display_data"
    }
   ],
   "source": [
    "sns.distplot(training_data['MONTH'], kde=False, rug=True)"
   ]
  },
  {
   "cell_type": "markdown",
   "metadata": {},
   "source": [
    "> Months seem to be more uniformly distributed."
   ]
  },
  {
   "cell_type": "markdown",
   "metadata": {},
   "source": [
    "**Inspect SEX**"
   ]
  },
  {
   "cell_type": "code",
   "execution_count": 30,
   "metadata": {},
   "outputs": [
    {
     "data": {
      "text/plain": [
       "<seaborn.axisgrid.FacetGrid at 0x1a2194bb00>"
      ]
     },
     "execution_count": 30,
     "metadata": {},
     "output_type": "execute_result"
    },
    {
     "data": {
      "image/png": "[encoded data removed]",
      "text/plain": [
       "<Figure size 405.725x360 with 1 Axes>"
      ]
     },
     "metadata": {
      "needs_background": "light"
     },
     "output_type": "display_data"
    }
   ],
   "source": [
    "sns.catplot(y='SEX', \n",
    "            hue='SEX',\n",
    "           kind='count',\n",
    "           data=training_data)"
   ]
  },
  {
   "cell_type": "markdown",
   "metadata": {},
   "source": [
    "> There are more female patients in this data set."
   ]
  },
  {
   "cell_type": "markdown",
   "metadata": {},
   "source": [
    "**Inspect Absent symptoms**"
   ]
  },
  {
   "cell_type": "markdown",
   "metadata": {},
   "source": [
    "> First, fill `NaN` with string then turn `Absent` into dummy variables and include `NaN` as a feature."
   ]
  },
  {
   "cell_type": "code",
   "execution_count": 31,
   "metadata": {},
   "outputs": [
    {
     "name": "stderr",
     "output_type": "stream",
     "text": [
      "/anaconda3/envs/style-search/lib/python3.6/site-packages/pandas/core/frame.py:4239: SettingWithCopyWarning: \n",
      "A value is trying to be set on a copy of a slice from a DataFrame\n",
      "\n",
      "See the caveats in the documentation: http://pandas.pydata.org/pandas-docs/stable/user_guide/indexing.html#returning-a-view-versus-a-copy\n",
      "  **kwargs\n"
     ]
    }
   ],
   "source": [
    "training_data.fillna('missing', inplace=True)"
   ]
  },
  {
   "cell_type": "code",
   "execution_count": 32,
   "metadata": {},
   "outputs": [],
   "source": [
    "# ref: https://stackoverflow.com/questions/46867201/converting-pandas-column-of-comma-separated-strings-into-dummy-variables\n",
    "training_data_encode = training_data['Absent'].str.get_dummies(sep=',').rename(lambda x: 'abs_' + x, axis='columns')"
   ]
  },
  {
   "cell_type": "code",
   "execution_count": 33,
   "metadata": {},
   "outputs": [],
   "source": [
    "training_data_encode_sum = pd.DataFrame(data=training_data_encode.sum(), columns=['count'])"
   ]
  },
  {
   "cell_type": "code",
   "execution_count": 34,
   "metadata": {},
   "outputs": [
    {
     "data": {
      "text/html": [
       "<div>\n",
       "<style scoped>\n",
       "    .dataframe tbody tr th:only-of-type {\n",
       "        vertical-align: middle;\n",
       "    }\n",
       "\n",
       "    .dataframe tbody tr th {\n",
       "        vertical-align: top;\n",
       "    }\n",
       "\n",
       "    .dataframe thead th {\n",
       "        text-align: right;\n",
       "    }\n",
       "</style>\n",
       "<table border=\"1\" class=\"dataframe\">\n",
       "  <thead>\n",
       "    <tr style=\"text-align: right;\">\n",
       "      <th></th>\n",
       "      <th>count</th>\n",
       "    </tr>\n",
       "  </thead>\n",
       "  <tbody>\n",
       "    <tr>\n",
       "      <th>abs_ s_0002</th>\n",
       "      <td>10694</td>\n",
       "    </tr>\n",
       "    <tr>\n",
       "      <th>abs_ s_0003</th>\n",
       "      <td>49</td>\n",
       "    </tr>\n",
       "    <tr>\n",
       "      <th>abs_ s_0004</th>\n",
       "      <td>44</td>\n",
       "    </tr>\n",
       "    <tr>\n",
       "      <th>abs_ s_0006</th>\n",
       "      <td>10</td>\n",
       "    </tr>\n",
       "    <tr>\n",
       "      <th>abs_ s_0012</th>\n",
       "      <td>1</td>\n",
       "    </tr>\n",
       "  </tbody>\n",
       "</table>\n",
       "</div>"
      ],
      "text/plain": [
       "             count\n",
       "abs_ s_0002  10694\n",
       "abs_ s_0003     49\n",
       "abs_ s_0004     44\n",
       "abs_ s_0006     10\n",
       "abs_ s_0012      1"
      ]
     },
     "execution_count": 34,
     "metadata": {},
     "output_type": "execute_result"
    }
   ],
   "source": [
    "training_data_encode_sum.head()"
   ]
  },
  {
   "cell_type": "code",
   "execution_count": 35,
   "metadata": {},
   "outputs": [
    {
     "data": {
      "text/plain": [
       "<matplotlib.axes._subplots.AxesSubplot at 0x1a28952358>"
      ]
     },
     "execution_count": 35,
     "metadata": {},
     "output_type": "execute_result"
    },
    {
     "data": {
      "image/png": "[encoded data removed]",
      "text/plain": [
       "<Figure size 432x288 with 1 Axes>"
      ]
     },
     "metadata": {
      "needs_background": "light"
     },
     "output_type": "display_data"
    }
   ],
   "source": [
    "sns.boxplot(x=training_data_encode_sum['count'])"
   ]
  },
  {
   "cell_type": "code",
   "execution_count": 36,
   "metadata": {},
   "outputs": [
    {
     "data": {
      "text/html": [
       "<div>\n",
       "<style scoped>\n",
       "    .dataframe tbody tr th:only-of-type {\n",
       "        vertical-align: middle;\n",
       "    }\n",
       "\n",
       "    .dataframe tbody tr th {\n",
       "        vertical-align: top;\n",
       "    }\n",
       "\n",
       "    .dataframe thead th {\n",
       "        text-align: right;\n",
       "    }\n",
       "</style>\n",
       "<table border=\"1\" class=\"dataframe\">\n",
       "  <thead>\n",
       "    <tr style=\"text-align: right;\">\n",
       "      <th></th>\n",
       "      <th>count</th>\n",
       "    </tr>\n",
       "  </thead>\n",
       "  <tbody>\n",
       "    <tr>\n",
       "      <th>count</th>\n",
       "      <td>901.000000</td>\n",
       "    </tr>\n",
       "    <tr>\n",
       "      <th>mean</th>\n",
       "      <td>384.990011</td>\n",
       "    </tr>\n",
       "    <tr>\n",
       "      <th>std</th>\n",
       "      <td>1766.193744</td>\n",
       "    </tr>\n",
       "    <tr>\n",
       "      <th>min</th>\n",
       "      <td>1.000000</td>\n",
       "    </tr>\n",
       "    <tr>\n",
       "      <th>25%</th>\n",
       "      <td>2.000000</td>\n",
       "    </tr>\n",
       "    <tr>\n",
       "      <th>50%</th>\n",
       "      <td>8.000000</td>\n",
       "    </tr>\n",
       "    <tr>\n",
       "      <th>75%</th>\n",
       "      <td>50.000000</td>\n",
       "    </tr>\n",
       "    <tr>\n",
       "      <th>max</th>\n",
       "      <td>25612.000000</td>\n",
       "    </tr>\n",
       "  </tbody>\n",
       "</table>\n",
       "</div>"
      ],
      "text/plain": [
       "              count\n",
       "count    901.000000\n",
       "mean     384.990011\n",
       "std     1766.193744\n",
       "min        1.000000\n",
       "25%        2.000000\n",
       "50%        8.000000\n",
       "75%       50.000000\n",
       "max    25612.000000"
      ]
     },
     "execution_count": 36,
     "metadata": {},
     "output_type": "execute_result"
    }
   ],
   "source": [
    "training_data_encode_sum.describe()"
   ]
  },
  {
   "cell_type": "markdown",
   "metadata": {},
   "source": [
    "> More than 50% of symptoms in `Absent` have appeared at least 8 times in the data set."
   ]
  },
  {
   "cell_type": "code",
   "execution_count": 37,
   "metadata": {},
   "outputs": [
    {
     "data": {
      "text/html": [
       "<div>\n",
       "<style scoped>\n",
       "    .dataframe tbody tr th:only-of-type {\n",
       "        vertical-align: middle;\n",
       "    }\n",
       "\n",
       "    .dataframe tbody tr th {\n",
       "        vertical-align: top;\n",
       "    }\n",
       "\n",
       "    .dataframe thead th {\n",
       "        text-align: right;\n",
       "    }\n",
       "</style>\n",
       "<table border=\"1\" class=\"dataframe\">\n",
       "  <thead>\n",
       "    <tr style=\"text-align: right;\">\n",
       "      <th></th>\n",
       "      <th>count</th>\n",
       "    </tr>\n",
       "  </thead>\n",
       "  <tbody>\n",
       "    <tr>\n",
       "      <th>abs_ s_0180</th>\n",
       "      <td>25612</td>\n",
       "    </tr>\n",
       "    <tr>\n",
       "      <th>abs_ s_0542</th>\n",
       "      <td>18726</td>\n",
       "    </tr>\n",
       "    <tr>\n",
       "      <th>abs_ s_0837</th>\n",
       "      <td>15640</td>\n",
       "    </tr>\n",
       "    <tr>\n",
       "      <th>abs_ s_0022</th>\n",
       "      <td>15396</td>\n",
       "    </tr>\n",
       "    <tr>\n",
       "      <th>abs_ s_0084</th>\n",
       "      <td>14202</td>\n",
       "    </tr>\n",
       "    <tr>\n",
       "      <th>abs_ s_0553</th>\n",
       "      <td>12581</td>\n",
       "    </tr>\n",
       "    <tr>\n",
       "      <th>abs_ s_1266</th>\n",
       "      <td>11075</td>\n",
       "    </tr>\n",
       "    <tr>\n",
       "      <th>abs_ s_0002</th>\n",
       "      <td>10694</td>\n",
       "    </tr>\n",
       "    <tr>\n",
       "      <th>abs_s_0070</th>\n",
       "      <td>10492</td>\n",
       "    </tr>\n",
       "    <tr>\n",
       "      <th>abs_ s_0242</th>\n",
       "      <td>9534</td>\n",
       "    </tr>\n",
       "  </tbody>\n",
       "</table>\n",
       "</div>"
      ],
      "text/plain": [
       "             count\n",
       "abs_ s_0180  25612\n",
       "abs_ s_0542  18726\n",
       "abs_ s_0837  15640\n",
       "abs_ s_0022  15396\n",
       "abs_ s_0084  14202\n",
       "abs_ s_0553  12581\n",
       "abs_ s_1266  11075\n",
       "abs_ s_0002  10694\n",
       "abs_s_0070   10492\n",
       "abs_ s_0242   9534"
      ]
     },
     "execution_count": 37,
     "metadata": {},
     "output_type": "execute_result"
    }
   ],
   "source": [
    "training_data_encode_sum.sort_values(by='count', ascending=False).head(10)"
   ]
  },
  {
   "cell_type": "markdown",
   "metadata": {},
   "source": [
    "> These symptoms above are the ten most commonly `Absent` symptoms."
   ]
  },
  {
   "cell_type": "markdown",
   "metadata": {},
   "source": [
    "**Inspect Present symptoms**"
   ]
  },
  {
   "cell_type": "markdown",
   "metadata": {},
   "source": [
    "> I will follow the same procedure as the `Absent` symptoms. Convert the `Present` symptoms to dummy variables."
   ]
  },
  {
   "cell_type": "code",
   "execution_count": 38,
   "metadata": {},
   "outputs": [],
   "source": [
    "# ref: https://stackoverflow.com/questions/46867201/converting-pandas-column-of-comma-separated-strings-into-dummy-variables\n",
    "training_data_encode2 = training_data['Present'].str.get_dummies(sep=',').rename(lambda x: 'prs_' + x, axis='columns')"
   ]
  },
  {
   "cell_type": "code",
   "execution_count": 39,
   "metadata": {},
   "outputs": [],
   "source": [
    "training_data_encode_sum2 = pd.DataFrame(data=training_data_encode2.sum(), columns=['count'])"
   ]
  },
  {
   "cell_type": "code",
   "execution_count": 40,
   "metadata": {},
   "outputs": [
    {
     "data": {
      "text/html": [
       "<div>\n",
       "<style scoped>\n",
       "    .dataframe tbody tr th:only-of-type {\n",
       "        vertical-align: middle;\n",
       "    }\n",
       "\n",
       "    .dataframe tbody tr th {\n",
       "        vertical-align: top;\n",
       "    }\n",
       "\n",
       "    .dataframe thead th {\n",
       "        text-align: right;\n",
       "    }\n",
       "</style>\n",
       "<table border=\"1\" class=\"dataframe\">\n",
       "  <thead>\n",
       "    <tr style=\"text-align: right;\">\n",
       "      <th></th>\n",
       "      <th>count</th>\n",
       "    </tr>\n",
       "  </thead>\n",
       "  <tbody>\n",
       "    <tr>\n",
       "      <th>prs_ s_0002</th>\n",
       "      <td>693</td>\n",
       "    </tr>\n",
       "    <tr>\n",
       "      <th>prs_ s_0004</th>\n",
       "      <td>26</td>\n",
       "    </tr>\n",
       "    <tr>\n",
       "      <th>prs_ s_0006</th>\n",
       "      <td>10</td>\n",
       "    </tr>\n",
       "    <tr>\n",
       "      <th>prs_ s_0014</th>\n",
       "      <td>1</td>\n",
       "    </tr>\n",
       "    <tr>\n",
       "      <th>prs_ s_0019</th>\n",
       "      <td>1</td>\n",
       "    </tr>\n",
       "    <tr>\n",
       "      <th>prs_ s_0022</th>\n",
       "      <td>2875</td>\n",
       "    </tr>\n",
       "  </tbody>\n",
       "</table>\n",
       "</div>"
      ],
      "text/plain": [
       "             count\n",
       "prs_ s_0002    693\n",
       "prs_ s_0004     26\n",
       "prs_ s_0006     10\n",
       "prs_ s_0014      1\n",
       "prs_ s_0019      1\n",
       "prs_ s_0022   2875"
      ]
     },
     "execution_count": 40,
     "metadata": {},
     "output_type": "execute_result"
    }
   ],
   "source": [
    "training_data_encode_sum2.head(6)"
   ]
  },
  {
   "cell_type": "code",
   "execution_count": 41,
   "metadata": {},
   "outputs": [
    {
     "data": {
      "text/plain": [
       "<matplotlib.axes._subplots.AxesSubplot at 0x1a27eba160>"
      ]
     },
     "execution_count": 41,
     "metadata": {},
     "output_type": "execute_result"
    },
    {
     "data": {
      "image/png": "[encoded data removed]",
      "text/plain": [
       "<Figure size 432x288 with 1 Axes>"
      ]
     },
     "metadata": {
      "needs_background": "light"
     },
     "output_type": "display_data"
    }
   ],
   "source": [
    "sns.boxplot(x=training_data_encode_sum2['count'])"
   ]
  },
  {
   "cell_type": "code",
   "execution_count": 42,
   "metadata": {},
   "outputs": [
    {
     "data": {
      "text/html": [
       "<div>\n",
       "<style scoped>\n",
       "    .dataframe tbody tr th:only-of-type {\n",
       "        vertical-align: middle;\n",
       "    }\n",
       "\n",
       "    .dataframe tbody tr th {\n",
       "        vertical-align: top;\n",
       "    }\n",
       "\n",
       "    .dataframe thead th {\n",
       "        text-align: right;\n",
       "    }\n",
       "</style>\n",
       "<table border=\"1\" class=\"dataframe\">\n",
       "  <thead>\n",
       "    <tr style=\"text-align: right;\">\n",
       "      <th></th>\n",
       "      <th>count</th>\n",
       "    </tr>\n",
       "  </thead>\n",
       "  <tbody>\n",
       "    <tr>\n",
       "      <th>count</th>\n",
       "      <td>1098.000000</td>\n",
       "    </tr>\n",
       "    <tr>\n",
       "      <th>mean</th>\n",
       "      <td>168.457195</td>\n",
       "    </tr>\n",
       "    <tr>\n",
       "      <th>std</th>\n",
       "      <td>764.949914</td>\n",
       "    </tr>\n",
       "    <tr>\n",
       "      <th>min</th>\n",
       "      <td>1.000000</td>\n",
       "    </tr>\n",
       "    <tr>\n",
       "      <th>25%</th>\n",
       "      <td>2.000000</td>\n",
       "    </tr>\n",
       "    <tr>\n",
       "      <th>50%</th>\n",
       "      <td>8.500000</td>\n",
       "    </tr>\n",
       "    <tr>\n",
       "      <th>75%</th>\n",
       "      <td>52.750000</td>\n",
       "    </tr>\n",
       "    <tr>\n",
       "      <th>max</th>\n",
       "      <td>15426.000000</td>\n",
       "    </tr>\n",
       "  </tbody>\n",
       "</table>\n",
       "</div>"
      ],
      "text/plain": [
       "              count\n",
       "count   1098.000000\n",
       "mean     168.457195\n",
       "std      764.949914\n",
       "min        1.000000\n",
       "25%        2.000000\n",
       "50%        8.500000\n",
       "75%       52.750000\n",
       "max    15426.000000"
      ]
     },
     "execution_count": 42,
     "metadata": {},
     "output_type": "execute_result"
    }
   ],
   "source": [
    "training_data_encode_sum2.describe()"
   ]
  },
  {
   "cell_type": "markdown",
   "metadata": {},
   "source": [
    "> More than 50% of symptoms in `Present` have appeared at least 8.5 times in the data set."
   ]
  },
  {
   "cell_type": "code",
   "execution_count": 43,
   "metadata": {},
   "outputs": [
    {
     "data": {
      "text/html": [
       "<div>\n",
       "<style scoped>\n",
       "    .dataframe tbody tr th:only-of-type {\n",
       "        vertical-align: middle;\n",
       "    }\n",
       "\n",
       "    .dataframe tbody tr th {\n",
       "        vertical-align: top;\n",
       "    }\n",
       "\n",
       "    .dataframe thead th {\n",
       "        text-align: right;\n",
       "    }\n",
       "</style>\n",
       "<table border=\"1\" class=\"dataframe\">\n",
       "  <thead>\n",
       "    <tr style=\"text-align: right;\">\n",
       "      <th></th>\n",
       "      <th>count</th>\n",
       "    </tr>\n",
       "  </thead>\n",
       "  <tbody>\n",
       "    <tr>\n",
       "      <th>prs_ s_0084</th>\n",
       "      <td>15426</td>\n",
       "    </tr>\n",
       "    <tr>\n",
       "      <th>prs_ s_0180</th>\n",
       "      <td>8198</td>\n",
       "    </tr>\n",
       "    <tr>\n",
       "      <th>prs_ s_0445</th>\n",
       "      <td>8171</td>\n",
       "    </tr>\n",
       "    <tr>\n",
       "      <th>prs_s_0445</th>\n",
       "      <td>6353</td>\n",
       "    </tr>\n",
       "    <tr>\n",
       "      <th>prs_ s_0826</th>\n",
       "      <td>5494</td>\n",
       "    </tr>\n",
       "    <tr>\n",
       "      <th>prs_ s_0309</th>\n",
       "      <td>4933</td>\n",
       "    </tr>\n",
       "    <tr>\n",
       "      <th>prs_ s_2734</th>\n",
       "      <td>4759</td>\n",
       "    </tr>\n",
       "    <tr>\n",
       "      <th>prs_ s_2194</th>\n",
       "      <td>4354</td>\n",
       "    </tr>\n",
       "    <tr>\n",
       "      <th>prs_s_0136</th>\n",
       "      <td>3884</td>\n",
       "    </tr>\n",
       "    <tr>\n",
       "      <th>prs_missing</th>\n",
       "      <td>3691</td>\n",
       "    </tr>\n",
       "  </tbody>\n",
       "</table>\n",
       "</div>"
      ],
      "text/plain": [
       "             count\n",
       "prs_ s_0084  15426\n",
       "prs_ s_0180   8198\n",
       "prs_ s_0445   8171\n",
       "prs_s_0445    6353\n",
       "prs_ s_0826   5494\n",
       "prs_ s_0309   4933\n",
       "prs_ s_2734   4759\n",
       "prs_ s_2194   4354\n",
       "prs_s_0136    3884\n",
       "prs_missing   3691"
      ]
     },
     "execution_count": 43,
     "metadata": {},
     "output_type": "execute_result"
    }
   ],
   "source": [
    "training_data_encode_sum2.sort_values(by='count', ascending=False).head(10)"
   ]
  },
  {
   "cell_type": "markdown",
   "metadata": {},
   "source": [
    "> These symptoms above are the ten most commonly `Present` symptoms. Notice that `NaN` which was replaced by string `missing` was the 10th most common `Present` symptoms. Seeing `missing` as No. 10 most frequent `Present` symptoms implies that many symptoms are not recorded in `Present` symptoms."
   ]
  },
  {
   "cell_type": "markdown",
   "metadata": {},
   "source": [
    "**Check Duplicate Entries**"
   ]
  },
  {
   "cell_type": "code",
   "execution_count": 44,
   "metadata": {},
   "outputs": [
    {
     "data": {
      "text/plain": [
       "(101, 6)"
      ]
     },
     "execution_count": 44,
     "metadata": {},
     "output_type": "execute_result"
    }
   ],
   "source": [
    "# ref: https://thispointer.com/pandas-find-duplicate-rows-in-a-dataframe-based-on-all-or-selected-columns-using-dataframe-duplicated-in-python/\n",
    "training_data[training_data.duplicated(keep='first')].shape"
   ]
  },
  {
   "cell_type": "markdown",
   "metadata": {},
   "source": [
    "> There are 101 duplicated rows. I will make the following assumption:\n",
    "\n",
    "> These duplicated rows are not data-entry errors. These duplicated are patients who experience the same `Absent` and `Present` symptoms while happened to visit a clinic/hospital during the same month. Their age and gender are the same. \n",
    "\n",
    "> My assumptions are based on the following reasons:\n",
    "\n",
    "1. Other types of patient identifiers are not provided in this data set so I cannot assume that the entries are duplicated.\n",
    "\n",
    "2. Some diseases (ie. flu) are seasonal and may have similar symptoms. Specific age groups (Children and seniors) are more susceptible to certain diseases. "
   ]
  },
  {
   "cell_type": "markdown",
   "metadata": {},
   "source": [
    "> A note on feature scaling: \n",
    "\n",
    "> Feature scaling will not be necessary because I will be using tree-based models which are invariant to feature scaling.\n",
    "\n",
    "ref: https://stats.stackexchange.com/questions/244507/what-algorithms-need-feature-scaling-beside-from-svm"
   ]
  },
  {
   "cell_type": "markdown",
   "metadata": {},
   "source": [
    "<a id='#section4'></a>\n",
    "### 4. Preprocessing"
   ]
  },
  {
   "cell_type": "markdown",
   "metadata": {},
   "source": [
    "> To ensure that the dimensions of training and test sets are consistent, I will preprocess the original data table again then split it into training and test sets.\n",
    "\n",
    "> Step 1: replace `NaN` with the string `missing`."
   ]
  },
  {
   "cell_type": "code",
   "execution_count": 45,
   "metadata": {},
   "outputs": [],
   "source": [
    "shuffled_data_table.fillna('missing', inplace=True)"
   ]
  },
  {
   "cell_type": "markdown",
   "metadata": {},
   "source": [
    "> Step 2: create dummy variables."
   ]
  },
  {
   "cell_type": "code",
   "execution_count": 46,
   "metadata": {},
   "outputs": [],
   "source": [
    "shuffled_data_table_encode = shuffled_data_table['Absent'].str.get_dummies(sep=',').rename(lambda x: 'abs_' + x, axis='columns')\n",
    "shuffled_data_table_encode2 = shuffled_data_table['Present'].str.get_dummies(sep=',').rename(lambda x: 'prs_' + x, axis='columns')"
   ]
  },
  {
   "cell_type": "markdown",
   "metadata": {},
   "source": [
    "> Step 3: join the dataframes."
   ]
  },
  {
   "cell_type": "code",
   "execution_count": 47,
   "metadata": {},
   "outputs": [],
   "source": [
    "full_data_table = shuffled_data_table.join(shuffled_data_table_encode, how='left')\n",
    "full_data_table = full_data_table.join(shuffled_data_table_encode2, how='left')"
   ]
  },
  {
   "cell_type": "markdown",
   "metadata": {},
   "source": [
    "> Step 4: drop the original `Absent` and `Present` symptoms columns."
   ]
  },
  {
   "cell_type": "code",
   "execution_count": 48,
   "metadata": {},
   "outputs": [],
   "source": [
    "full_data_table = full_data_table.drop(labels=['Absent', 'Present'], axis=1)"
   ]
  },
  {
   "cell_type": "markdown",
   "metadata": {},
   "source": [
    "> Step 5: Perform the same train-test split I did in section 2."
   ]
  },
  {
   "cell_type": "code",
   "execution_count": 49,
   "metadata": {},
   "outputs": [],
   "source": [
    "train_df = full_data_table[:target_index]\n",
    "test_df = full_data_table[target_index:]"
   ]
  },
  {
   "cell_type": "code",
   "execution_count": 50,
   "metadata": {},
   "outputs": [
    {
     "data": {
      "text/plain": [
       "(50163, 2123)"
      ]
     },
     "execution_count": 50,
     "metadata": {},
     "output_type": "execute_result"
    }
   ],
   "source": [
    "train_df.shape"
   ]
  },
  {
   "cell_type": "code",
   "execution_count": 51,
   "metadata": {},
   "outputs": [
    {
     "data": {
      "text/html": [
       "<div>\n",
       "<style scoped>\n",
       "    .dataframe tbody tr th:only-of-type {\n",
       "        vertical-align: middle;\n",
       "    }\n",
       "\n",
       "    .dataframe tbody tr th {\n",
       "        vertical-align: top;\n",
       "    }\n",
       "\n",
       "    .dataframe thead th {\n",
       "        text-align: right;\n",
       "    }\n",
       "</style>\n",
       "<table border=\"1\" class=\"dataframe\">\n",
       "  <thead>\n",
       "    <tr style=\"text-align: right;\">\n",
       "      <th></th>\n",
       "      <th>DX</th>\n",
       "      <th>AGE</th>\n",
       "      <th>MONTH</th>\n",
       "      <th>SEX</th>\n",
       "      <th>abs_ s_0002</th>\n",
       "      <th>abs_ s_0003</th>\n",
       "      <th>abs_ s_0004</th>\n",
       "      <th>abs_ s_0006</th>\n",
       "      <th>abs_ s_0012</th>\n",
       "      <th>abs_ s_0013</th>\n",
       "      <th>...</th>\n",
       "      <th>prs_s_2738</th>\n",
       "      <th>prs_s_2739</th>\n",
       "      <th>prs_s_2740</th>\n",
       "      <th>prs_s_2741</th>\n",
       "      <th>prs_s_2742</th>\n",
       "      <th>prs_s_2743</th>\n",
       "      <th>prs_s_2754</th>\n",
       "      <th>prs_s_2755</th>\n",
       "      <th>prs_s_2768</th>\n",
       "      <th>prs_s_2770</th>\n",
       "    </tr>\n",
       "  </thead>\n",
       "  <tbody>\n",
       "    <tr>\n",
       "      <th>10356</th>\n",
       "      <td>c_0608</td>\n",
       "      <td>0.0</td>\n",
       "      <td>3</td>\n",
       "      <td>1</td>\n",
       "      <td>0</td>\n",
       "      <td>0</td>\n",
       "      <td>0</td>\n",
       "      <td>0</td>\n",
       "      <td>0</td>\n",
       "      <td>0</td>\n",
       "      <td>...</td>\n",
       "      <td>0</td>\n",
       "      <td>0</td>\n",
       "      <td>0</td>\n",
       "      <td>0</td>\n",
       "      <td>0</td>\n",
       "      <td>0</td>\n",
       "      <td>0</td>\n",
       "      <td>0</td>\n",
       "      <td>0</td>\n",
       "      <td>0</td>\n",
       "    </tr>\n",
       "    <tr>\n",
       "      <th>34268</th>\n",
       "      <td>c_0036</td>\n",
       "      <td>75.0</td>\n",
       "      <td>3</td>\n",
       "      <td>0</td>\n",
       "      <td>0</td>\n",
       "      <td>0</td>\n",
       "      <td>0</td>\n",
       "      <td>0</td>\n",
       "      <td>0</td>\n",
       "      <td>0</td>\n",
       "      <td>...</td>\n",
       "      <td>0</td>\n",
       "      <td>0</td>\n",
       "      <td>0</td>\n",
       "      <td>0</td>\n",
       "      <td>0</td>\n",
       "      <td>0</td>\n",
       "      <td>0</td>\n",
       "      <td>0</td>\n",
       "      <td>0</td>\n",
       "      <td>0</td>\n",
       "    </tr>\n",
       "    <tr>\n",
       "      <th>5939</th>\n",
       "      <td>c_0608</td>\n",
       "      <td>16.0</td>\n",
       "      <td>2</td>\n",
       "      <td>1</td>\n",
       "      <td>0</td>\n",
       "      <td>0</td>\n",
       "      <td>0</td>\n",
       "      <td>0</td>\n",
       "      <td>0</td>\n",
       "      <td>0</td>\n",
       "      <td>...</td>\n",
       "      <td>0</td>\n",
       "      <td>0</td>\n",
       "      <td>0</td>\n",
       "      <td>0</td>\n",
       "      <td>0</td>\n",
       "      <td>0</td>\n",
       "      <td>0</td>\n",
       "      <td>0</td>\n",
       "      <td>0</td>\n",
       "      <td>0</td>\n",
       "    </tr>\n",
       "    <tr>\n",
       "      <th>65521</th>\n",
       "      <td>c_0608</td>\n",
       "      <td>0.0</td>\n",
       "      <td>9</td>\n",
       "      <td>0</td>\n",
       "      <td>1</td>\n",
       "      <td>0</td>\n",
       "      <td>0</td>\n",
       "      <td>0</td>\n",
       "      <td>0</td>\n",
       "      <td>0</td>\n",
       "      <td>...</td>\n",
       "      <td>0</td>\n",
       "      <td>0</td>\n",
       "      <td>0</td>\n",
       "      <td>0</td>\n",
       "      <td>0</td>\n",
       "      <td>0</td>\n",
       "      <td>0</td>\n",
       "      <td>0</td>\n",
       "      <td>0</td>\n",
       "      <td>0</td>\n",
       "    </tr>\n",
       "    <tr>\n",
       "      <th>59578</th>\n",
       "      <td>c_0608</td>\n",
       "      <td>16.0</td>\n",
       "      <td>3</td>\n",
       "      <td>1</td>\n",
       "      <td>0</td>\n",
       "      <td>0</td>\n",
       "      <td>0</td>\n",
       "      <td>0</td>\n",
       "      <td>0</td>\n",
       "      <td>0</td>\n",
       "      <td>...</td>\n",
       "      <td>0</td>\n",
       "      <td>0</td>\n",
       "      <td>0</td>\n",
       "      <td>0</td>\n",
       "      <td>0</td>\n",
       "      <td>0</td>\n",
       "      <td>0</td>\n",
       "      <td>0</td>\n",
       "      <td>0</td>\n",
       "      <td>0</td>\n",
       "    </tr>\n",
       "  </tbody>\n",
       "</table>\n",
       "<p>5 rows × 2123 columns</p>\n",
       "</div>"
      ],
      "text/plain": [
       "           DX   AGE  MONTH  SEX  abs_ s_0002  abs_ s_0003  abs_ s_0004  \\\n",
       "10356  c_0608   0.0      3    1            0            0            0   \n",
       "34268  c_0036  75.0      3    0            0            0            0   \n",
       "5939   c_0608  16.0      2    1            0            0            0   \n",
       "65521  c_0608   0.0      9    0            1            0            0   \n",
       "59578  c_0608  16.0      3    1            0            0            0   \n",
       "\n",
       "       abs_ s_0006  abs_ s_0012  abs_ s_0013  ...  prs_s_2738  prs_s_2739  \\\n",
       "10356            0            0            0  ...           0           0   \n",
       "34268            0            0            0  ...           0           0   \n",
       "5939             0            0            0  ...           0           0   \n",
       "65521            0            0            0  ...           0           0   \n",
       "59578            0            0            0  ...           0           0   \n",
       "\n",
       "       prs_s_2740  prs_s_2741  prs_s_2742  prs_s_2743  prs_s_2754  prs_s_2755  \\\n",
       "10356           0           0           0           0           0           0   \n",
       "34268           0           0           0           0           0           0   \n",
       "5939            0           0           0           0           0           0   \n",
       "65521           0           0           0           0           0           0   \n",
       "59578           0           0           0           0           0           0   \n",
       "\n",
       "       prs_s_2768  prs_s_2770  \n",
       "10356           0           0  \n",
       "34268           0           0  \n",
       "5939            0           0  \n",
       "65521           0           0  \n",
       "59578           0           0  \n",
       "\n",
       "[5 rows x 2123 columns]"
      ]
     },
     "execution_count": 51,
     "metadata": {},
     "output_type": "execute_result"
    }
   ],
   "source": [
    "train_df.head()"
   ]
  },
  {
   "cell_type": "code",
   "execution_count": 52,
   "metadata": {},
   "outputs": [
    {
     "data": {
      "text/plain": [
       "(21499, 2123)"
      ]
     },
     "execution_count": 52,
     "metadata": {},
     "output_type": "execute_result"
    }
   ],
   "source": [
    "test_df.shape"
   ]
  },
  {
   "cell_type": "markdown",
   "metadata": {},
   "source": [
    "> The new training and test sets have the same number of rows as the previous un-dummified sets. Their columns have the same dimension now. By inspecting the dimensions of the new training and test sets, I have successfully encoded the `Absent` and `Present` symptoms."
   ]
  },
  {
   "cell_type": "markdown",
   "metadata": {},
   "source": [
    "<a id='#section5'></a>\n",
    "### 5. Modeling"
   ]
  },
  {
   "cell_type": "markdown",
   "metadata": {},
   "source": [
    "> Part A: use `hyperopt` library\n",
    "\n",
    "> First, I will create a label array."
   ]
  },
  {
   "cell_type": "code",
   "execution_count": 53,
   "metadata": {},
   "outputs": [
    {
     "data": {
      "text/plain": [
       "(50163,)"
      ]
     },
     "execution_count": 53,
     "metadata": {},
     "output_type": "execute_result"
    }
   ],
   "source": [
    "# create label array \n",
    "train_df_dx_cat = pd.factorize(train_df['DX'])[0]+1\n",
    "y = train_df_dx_cat\n",
    "y.shape"
   ]
  },
  {
   "cell_type": "code",
   "execution_count": 75,
   "metadata": {},
   "outputs": [
    {
     "data": {
      "text/plain": [
       "array([ 1,  2,  3,  4,  5,  6,  7,  8,  9, 10, 11, 12, 13, 14, 15, 16, 17,\n",
       "       18, 19, 20, 21, 22, 23, 24, 25])"
      ]
     },
     "execution_count": 75,
     "metadata": {},
     "output_type": "execute_result"
    }
   ],
   "source": [
    "np.unique(y)"
   ]
  },
  {
   "cell_type": "code",
   "execution_count": 54,
   "metadata": {},
   "outputs": [
    {
     "data": {
      "text/plain": [
       "(21499,)"
      ]
     },
     "execution_count": 54,
     "metadata": {},
     "output_type": "execute_result"
    }
   ],
   "source": [
    "# create a test label array as well\n",
    "test_df_dx_cat = pd.factorize(test_df['DX'])[0]+1\n",
    "y_test = test_df_dx_cat\n",
    "y_test.shape"
   ]
  },
  {
   "cell_type": "code",
   "execution_count": 55,
   "metadata": {},
   "outputs": [
    {
     "data": {
      "text/plain": [
       "(50163, 2122)"
      ]
     },
     "execution_count": 55,
     "metadata": {},
     "output_type": "execute_result"
    }
   ],
   "source": [
    "# create feature array \n",
    "\n",
    "X = train_df.drop(['DX'], axis=1).values\n",
    "X.shape"
   ]
  },
  {
   "cell_type": "code",
   "execution_count": 56,
   "metadata": {},
   "outputs": [
    {
     "data": {
      "text/plain": [
       "(21499, 2122)"
      ]
     },
     "execution_count": 56,
     "metadata": {},
     "output_type": "execute_result"
    }
   ],
   "source": [
    "# create a test feature array as well\n",
    "\n",
    "\n",
    "X_test = test_df.drop(['DX'], axis=1).values\n",
    "X_test.shape"
   ]
  },
  {
   "cell_type": "markdown",
   "metadata": {},
   "source": [
    "> I will take one small set out of training data using stratified k-fold. Stratified k-fold will handle class imbalance so I do not have to do bootstrap sampling."
   ]
  },
  {
   "cell_type": "code",
   "execution_count": 95,
   "metadata": {},
   "outputs": [
    {
     "name": "stdout",
     "output_type": "stream",
     "text": [
      "StratifiedKFold(n_splits=2, random_state=10, shuffle=False)\n"
     ]
    }
   ],
   "source": [
    "skf = StratifiedKFold(n_splits=2, random_state=10)\n",
    "skf.get_n_splits(X, y)\n",
    "print(skf)"
   ]
  },
  {
   "cell_type": "markdown",
   "metadata": {},
   "source": [
    "> I only need one set so I will run this for loop only once."
   ]
  },
  {
   "cell_type": "code",
   "execution_count": 96,
   "metadata": {},
   "outputs": [
    {
     "name": "stdout",
     "output_type": "stream",
     "text": [
      "TRAIN: [22490 23548 23597 ... 50160 50161 50162] VAL: [    0     1     2 ... 27045 29078 29152]\n"
     ]
    }
   ],
   "source": [
    "for train_index, val_index in skf.split(X, y):\n",
    "    print(\"TRAIN:\", train_index, \"VAL:\", val_index)\n",
    "    X_train, X_val = X[train_index], X[val_index]\n",
    "    y_train, y_val = y[train_index], y[val_index]\n",
    "    break"
   ]
  },
  {
   "cell_type": "code",
   "execution_count": 97,
   "metadata": {},
   "outputs": [
    {
     "data": {
      "text/plain": [
       "(25076, 2122)"
      ]
     },
     "execution_count": 97,
     "metadata": {},
     "output_type": "execute_result"
    }
   ],
   "source": [
    "X_train.shape"
   ]
  },
  {
   "cell_type": "code",
   "execution_count": 98,
   "metadata": {},
   "outputs": [
    {
     "data": {
      "text/plain": [
       "(25076,)"
      ]
     },
     "execution_count": 98,
     "metadata": {},
     "output_type": "execute_result"
    }
   ],
   "source": [
    "y_train.shape"
   ]
  },
  {
   "cell_type": "markdown",
   "metadata": {},
   "source": [
    "> Now, use the `hyperopt` library to search for the best model with the best hyperparameters."
   ]
  },
  {
   "cell_type": "code",
   "execution_count": 99,
   "metadata": {},
   "outputs": [],
   "source": [
    "# list of classifiers: random_forest, extra_trees\n",
    "\n",
    "clf = hp.pchoice( 'initial', \n",
    "          [ ( 0.5, random_forest('initial.random_forest') ),\n",
    "            ( 0.5, extra_trees('initial.extra_trees') ) ] )\n",
    "\n",
    "estim = HyperoptEstimator( classifier=clf, algo=tpe.suggest, trial_timeout=300)"
   ]
  },
  {
   "cell_type": "code",
   "execution_count": 100,
   "metadata": {},
   "outputs": [
    {
     "name": "stdout",
     "output_type": "stream",
     "text": [
      "100%|██████████| 1/1 [02:21<00:00, 141.21s/it, best loss: 0.4278309409888357]\n",
      "100%|██████████| 1/1 [05:00<00:00, 300.27s/it, best loss: 0.4278309409888357]\n",
      "100%|██████████| 1/1 [00:50<00:00, 50.08s/it, best loss: 0.4244417862838915]\n",
      "100%|██████████| 1/1 [00:50<00:00, 50.33s/it, best loss: 0.4244417862838915]\n",
      "100%|██████████| 1/1 [05:00<00:00, 300.15s/it, best loss: 0.4244417862838915]\n",
      "100%|██████████| 1/1 [04:30<00:00, 270.05s/it, best loss: 0.4244417862838915]\n",
      "100%|██████████| 1/1 [00:56<00:00, 56.54s/it, best loss: 0.4244417862838915]\n",
      "100%|██████████| 1/1 [04:35<00:00, 275.23s/it, best loss: 0.4244417862838915]\n",
      "100%|██████████| 1/1 [05:00<00:00, 300.14s/it, best loss: 0.4244417862838915]\n",
      "100%|██████████| 1/1 [00:19<00:00, 19.05s/it, best loss: 0.4244417862838915]\n"
     ]
    }
   ],
   "source": [
    "estim.fit( X_train, y_train )"
   ]
  },
  {
   "cell_type": "code",
   "execution_count": 101,
   "metadata": {},
   "outputs": [
    {
     "name": "stdout",
     "output_type": "stream",
     "text": [
      "0.5665085502451469\n"
     ]
    }
   ],
   "source": [
    "print( estim.score( X_val, y_val ) )"
   ]
  },
  {
   "cell_type": "code",
   "execution_count": 102,
   "metadata": {},
   "outputs": [
    {
     "name": "stdout",
     "output_type": "stream",
     "text": [
      "{'learner': RandomForestClassifier(bootstrap=False, class_weight=None, criterion='gini',\n",
      "            max_depth=None, max_features=0.13586036204220875,\n",
      "            max_leaf_nodes=None, min_impurity_decrease=0.0,\n",
      "            min_impurity_split=None, min_samples_leaf=3,\n",
      "            min_samples_split=2, min_weight_fraction_leaf=0.0,\n",
      "            n_estimators=39, n_jobs=1, oob_score=False, random_state=4,\n",
      "            verbose=False, warm_start=False), 'preprocs': (StandardScaler(copy=True, with_mean=False, with_std=False),), 'ex_preprocs': ()}\n"
     ]
    }
   ],
   "source": [
    "print( estim.best_model() )"
   ]
  },
  {
   "cell_type": "markdown",
   "metadata": {},
   "source": [
    "> The validation score does not look promising but it is a start. I will use Random Forest instead of ExtraTreesClassifier.\n",
    "\n",
    "> Next, I will build a XGBoost classifier using Stratified k-fold cross validation."
   ]
  },
  {
   "cell_type": "markdown",
   "metadata": {},
   "source": [
    "ref: https://www.kaggle.com/henrylidgley/xgboost-with-hyperopt-tuning\n",
    "```\n",
    "def objective(space):\n",
    "\n",
    "    warnings.filterwarnings(action='ignore', category=DeprecationWarning)\n",
    "    classifier = xgb.XGBClassifier(n_estimators = space['n_estimators'],\n",
    "                            max_depth = int(space['max_depth'])\n",
    "                            #learning_rate = space['learning_rate'],\n",
    "                            #gamma = space['gamma'],\n",
    "                            #min_child_weight = space['min_child_weight'],\n",
    "                            #subsample = space['subsample'],\n",
    "                            #colsample_bytree = space['colsample_bytree']\n",
    "                            )\n",
    "    \n",
    "    classifier.fit(X_train, y_train)\n",
    "    \n",
    "    # Applying k-Fold Cross Validation\n",
    "    from sklearn.model_selection import cross_val_score\n",
    "    accuracies = cross_val_score(estimator = classifier, X = X_train, y = y_train, cv = 2)\n",
    "    CrossValMean = accuracies.mean()\n",
    "\n",
    "    print(\"CrossValMean:\", CrossValMean)\n",
    "\n",
    "    return{'loss':1-CrossValMean, 'status': STATUS_OK }\n",
    "```"
   ]
  },
  {
   "cell_type": "markdown",
   "metadata": {},
   "source": [
    "```\n",
    "space = {\n",
    "    'max_depth' : hp.choice('max_depth', range(10, 300, 10)),\n",
    "     'learning_rate' : hp.quniform('learning_rate', 0.01, 0.5, 0.01),\n",
    "    'n_estimators' : hp.choice('n_estimators', range(20, 250, 10))\n",
    "     'gamma' : hp.quniform('gamma', 0, 0.50, 0.01),\n",
    "     'min_child_weight' : hp.quniform('min_child_weight', 1, 10, 1),\n",
    "     'subsample' : hp.quniform('subsample', 0.1, 1, 0.01),\n",
    "     'colsample_bytree' : hp.quniform('colsample_bytree', 0.1, 1.0, 0.01)\n",
    "        }\n",
    "\n",
    "trials = Trials()\n",
    "best = fmin(fn=objective,\n",
    "            space=space,\n",
    "            algo=tpe.suggest,\n",
    "            max_evals=50,\n",
    "            trials=trials)\n",
    "\n",
    "print(\"Best: \", best)\n",
    "```"
   ]
  },
  {
   "cell_type": "markdown",
   "metadata": {},
   "source": [
    "> Hyperparameter tuning for `xgboost` and `ada_boost` took way too long. For the interest for time, I will choose Random Forest Classifier as my final model and perform a full 10-fold cross validation."
   ]
  },
  {
   "cell_type": "code",
   "execution_count": 106,
   "metadata": {},
   "outputs": [],
   "source": [
    "classifier_pipeline = make_pipeline(preprocessing.StandardScaler(copy=True, with_mean=False, with_std=False),\n",
    "                                    RandomForestClassifier(bootstrap=False, class_weight=None, criterion='gini',\n",
    "                                        max_depth=None, max_features=0.13586036204220875,\n",
    "                                        max_leaf_nodes=None, min_impurity_decrease=0.0,\n",
    "                                        min_impurity_split=None, min_samples_leaf=3,\n",
    "                                        min_samples_split=2, min_weight_fraction_leaf=0.0,\n",
    "                                        n_estimators=39, n_jobs=1, oob_score=False, random_state=4,\n",
    "                                        verbose=False, warm_start=False))"
   ]
  },
  {
   "cell_type": "code",
   "execution_count": 108,
   "metadata": {},
   "outputs": [],
   "source": [
    "scores = cross_val_score(classifier_pipeline, X, y, cv=10)"
   ]
  },
  {
   "cell_type": "code",
   "execution_count": 109,
   "metadata": {},
   "outputs": [
    {
     "data": {
      "text/plain": [
       "0.5786545178598447"
      ]
     },
     "execution_count": 109,
     "metadata": {},
     "output_type": "execute_result"
    }
   ],
   "source": [
    "scores.mean()"
   ]
  },
  {
   "cell_type": "markdown",
   "metadata": {},
   "source": [
    "> The stratified 10-fold cross-validation gives a slightly higher score which is a better reflection of how the model does."
   ]
  },
  {
   "cell_type": "markdown",
   "metadata": {},
   "source": [
    "> Now, I will retrain the model with the full training data and predict on the test data."
   ]
  },
  {
   "cell_type": "code",
   "execution_count": 120,
   "metadata": {},
   "outputs": [],
   "source": [
    "rf_clf = RandomForestClassifier(bootstrap=False, class_weight=None, criterion='gini',\n",
    "                                        max_depth=None, max_features=0.13586036204220875,\n",
    "                                        max_leaf_nodes=None, min_impurity_decrease=0.0,\n",
    "                                        min_impurity_split=None, min_samples_leaf=3,\n",
    "                                        min_samples_split=2, min_weight_fraction_leaf=0.0,\n",
    "                                        n_estimators=39, n_jobs=1, oob_score=False, random_state=4,\n",
    "                                        verbose=False, warm_start=False)"
   ]
  },
  {
   "cell_type": "code",
   "execution_count": 121,
   "metadata": {},
   "outputs": [
    {
     "data": {
      "text/plain": [
       "RandomForestClassifier(bootstrap=False, class_weight=None, criterion='gini',\n",
       "            max_depth=None, max_features=0.13586036204220875,\n",
       "            max_leaf_nodes=None, min_impurity_decrease=0.0,\n",
       "            min_impurity_split=None, min_samples_leaf=3,\n",
       "            min_samples_split=2, min_weight_fraction_leaf=0.0,\n",
       "            n_estimators=39, n_jobs=1, oob_score=False, random_state=4,\n",
       "            verbose=False, warm_start=False)"
      ]
     },
     "execution_count": 121,
     "metadata": {},
     "output_type": "execute_result"
    }
   ],
   "source": [
    "rf_clf.fit(X, y)"
   ]
  },
  {
   "cell_type": "code",
   "execution_count": 122,
   "metadata": {},
   "outputs": [
    {
     "data": {
      "text/plain": [
       "0.1983813200613982"
      ]
     },
     "execution_count": 122,
     "metadata": {},
     "output_type": "execute_result"
    }
   ],
   "source": [
    "rf_clf.score(X_test, y_test)"
   ]
  },
  {
   "cell_type": "markdown",
   "metadata": {},
   "source": [
    "> The test score is very low."
   ]
  },
  {
   "cell_type": "markdown",
   "metadata": {},
   "source": [
    "<a id='#section1'></a>\n",
    "### 6. Error Analysis"
   ]
  },
  {
   "cell_type": "code",
   "execution_count": 113,
   "metadata": {},
   "outputs": [],
   "source": [
    "y_pred = rf_clf.predict(X_test)"
   ]
  },
  {
   "cell_type": "markdown",
   "metadata": {},
   "source": [
    "> use weighted f1-score to account for class imbalance."
   ]
  },
  {
   "cell_type": "code",
   "execution_count": 115,
   "metadata": {},
   "outputs": [
    {
     "name": "stderr",
     "output_type": "stream",
     "text": [
      "/anaconda3/envs/style-search/lib/python3.6/site-packages/sklearn/metrics/classification.py:1143: UndefinedMetricWarning: Precision and F-score are ill-defined and being set to 0.0 in labels with no predicted samples.\n",
      "  'precision', 'predicted', average, warn_for)\n"
     ]
    },
    {
     "data": {
      "text/plain": [
       "(0.19141859697332428, 0.1983813200613982, 0.1852501857101185, None)"
      ]
     },
     "execution_count": 115,
     "metadata": {},
     "output_type": "execute_result"
    }
   ],
   "source": [
    "precision_recall_fscore_support(y_pred=y_pred, y_true=y_test, average='weighted')"
   ]
  },
  {
   "cell_type": "markdown",
   "metadata": {},
   "source": [
    "My model seems to overfit on the training data because its cross validation score is much higher than the test score."
   ]
  },
  {
   "cell_type": "markdown",
   "metadata": {},
   "source": [
    "<a id='#section7'></a>\n",
    "### 7. Feature Selection"
   ]
  },
  {
   "cell_type": "markdown",
   "metadata": {},
   "source": [
    "> The features selected from the model will not be very indicative because the model performs poorly.\n",
    "\n",
    "> Inspect the features selected by Random Forest Classifier."
   ]
  },
  {
   "cell_type": "code",
   "execution_count": 125,
   "metadata": {},
   "outputs": [],
   "source": [
    "feature_importances = pd.DataFrame(rf_clf.feature_importances_,\n",
    "                                   index = train_df.drop(['DX'], axis=1).columns,\n",
    "                                   columns=['importance']).sort_values('importance', ascending=False)"
   ]
  },
  {
   "cell_type": "code",
   "execution_count": 126,
   "metadata": {},
   "outputs": [
    {
     "data": {
      "text/html": [
       "<div>\n",
       "<style scoped>\n",
       "    .dataframe tbody tr th:only-of-type {\n",
       "        vertical-align: middle;\n",
       "    }\n",
       "\n",
       "    .dataframe tbody tr th {\n",
       "        vertical-align: top;\n",
       "    }\n",
       "\n",
       "    .dataframe thead th {\n",
       "        text-align: right;\n",
       "    }\n",
       "</style>\n",
       "<table border=\"1\" class=\"dataframe\">\n",
       "  <thead>\n",
       "    <tr style=\"text-align: right;\">\n",
       "      <th></th>\n",
       "      <th>importance</th>\n",
       "    </tr>\n",
       "  </thead>\n",
       "  <tbody>\n",
       "    <tr>\n",
       "      <th>AGE</th>\n",
       "      <td>0.103902</td>\n",
       "    </tr>\n",
       "    <tr>\n",
       "      <th>prs_s_0445</th>\n",
       "      <td>0.060558</td>\n",
       "    </tr>\n",
       "    <tr>\n",
       "      <th>prs_ s_0084</th>\n",
       "      <td>0.059835</td>\n",
       "    </tr>\n",
       "    <tr>\n",
       "      <th>prs_s_0136</th>\n",
       "      <td>0.041898</td>\n",
       "    </tr>\n",
       "    <tr>\n",
       "      <th>prs_ s_0445</th>\n",
       "      <td>0.038265</td>\n",
       "    </tr>\n",
       "    <tr>\n",
       "      <th>MONTH</th>\n",
       "      <td>0.036372</td>\n",
       "    </tr>\n",
       "    <tr>\n",
       "      <th>prs_ s_1316</th>\n",
       "      <td>0.033140</td>\n",
       "    </tr>\n",
       "    <tr>\n",
       "      <th>prs_ s_2563</th>\n",
       "      <td>0.026811</td>\n",
       "    </tr>\n",
       "    <tr>\n",
       "      <th>prs_ s_0136</th>\n",
       "      <td>0.013114</td>\n",
       "    </tr>\n",
       "    <tr>\n",
       "      <th>SEX</th>\n",
       "      <td>0.011379</td>\n",
       "    </tr>\n",
       "  </tbody>\n",
       "</table>\n",
       "</div>"
      ],
      "text/plain": [
       "             importance\n",
       "AGE            0.103902\n",
       "prs_s_0445     0.060558\n",
       "prs_ s_0084    0.059835\n",
       "prs_s_0136     0.041898\n",
       "prs_ s_0445    0.038265\n",
       "MONTH          0.036372\n",
       "prs_ s_1316    0.033140\n",
       "prs_ s_2563    0.026811\n",
       "prs_ s_0136    0.013114\n",
       "SEX            0.011379"
      ]
     },
     "execution_count": 126,
     "metadata": {},
     "output_type": "execute_result"
    }
   ],
   "source": [
    "feature_importances.head(10)"
   ]
  },
  {
   "cell_type": "markdown",
   "metadata": {},
   "source": [
    "> The chart is a list of top 10 features used in the Random Forest Classifiers. `AGE` seems to have the largest importance. This model seems to focus more on the `MONTH`, `SEX` and specific `Present` symptoms."
   ]
  },
  {
   "cell_type": "markdown",
   "metadata": {},
   "source": [
    "<a id='#section8'></a>\n",
    "### 8. Reflection"
   ]
  },
  {
   "cell_type": "markdown",
   "metadata": {},
   "source": [
    "**With exploratory data analysis, I learned that:**\n",
    "\n",
    "1. The data set was clean. \n",
    "\n",
    "2. I identified that one outlier in the `AGE` feature which was possiblity due to be a data entry error.  \n",
    "\n",
    "3. I made the assumption that the duplicated rows were not a mistake in data entry. I assumed that they were different patients with same `AGE`, `SEX`, `Absent`, and `Present` symptoms which led to the same `DX`.\n",
    "\n",
    "4. There was an class imbalance issue. There were 25 class labels but `c_0608` and `c_0152` accounted for 38% of the whole diangoses. I tried to use stratified k-fold cross validation to address this class imbalance.\n",
    "\n",
    "**What I would have done if I had more time:**\n",
    "\n",
    "To address class imbalance:\n",
    "\n",
    "1. use focal loss technique. [ref](https://www.dlology.com/blog/multi-class-classification-with-focal-loss-for-imbalanced-datasets/)\n",
    "\n",
    "2. upsample minority class or downsample majority class.\n",
    "\n",
    "**For modeling, my model did not perform well possibly due the following:**\n",
    "\n",
    "1. I did not select the best models to run `hyperopt`.\n",
    "\n",
    "2. `trial_timeout=300` in `hyperopt` was too short to exploration the hyperparameter space sufficiently to find a well-performing optimum.\n",
    "\n",
    "3. The computation power of my MacBook Air was limited so I used `hyperopt` on a 2-fold cross-validation.\n",
    "\n",
    "**What I would have done if I had more time:**\n",
    "\n",
    "To address poor model performance:\n",
    "\n",
    "I should train on AWS EC2 using GPU so I can:\n",
    "\n",
    "1. include more models such as `XGBoost` and `multiclass logistic regression` in the `hyperopt` search.\n",
    "\n",
    "2. increase `trail_timeout` value so that the hyperparameter space can be sufficiently explored.\n",
    "\n",
    "3. specify the range of hyperparameters to explore to reduce tuning time.\n",
    "\n",
    "4. increase the `n_estimators` of the Random Forest to reduce overfitting.\n",
    "\n",
    "5. explore neural network models\n",
    "\n",
    "**For feature selection, I did the following:**\n",
    "\n",
    "- I inspected the key features of my under-performing model with the `sklearn` `feature_importances_`. Since the model underperformed, the top ten features selected by the model would not have much value.\n",
    "\n",
    "**What I would have done if I had more time:**\n",
    "\n",
    "1. use Elastic Net(L1/L2) regression to select features.\n",
    "\n",
    "2. use Forward Selection to select features. [ref](https://towardsdatascience.com/feature-importance-and-forward-feature-selection-752638849962)"
   ]
  },
  {
   "cell_type": "markdown",
   "metadata": {},
   "source": [
    "**Overall:**\n",
    "\n",
    "It was a great learning experience! Thank you for offering me this data challenge!\n",
    " "
   ]
  }
 ],
 "metadata": {
  "kernelspec": {
   "display_name": "Python 3",
   "language": "python",
   "name": "python3"
  },
  "language_info": {
   "codemirror_mode": {
    "name": "ipython",
    "version": 3
   },
   "file_extension": ".py",
   "mimetype": "text/x-python",
   "name": "python",
   "nbconvert_exporter": "python",
   "pygments_lexer": "ipython3",
   "version": "3.6.8"
  }
 },
 "nbformat": 4,
 "nbformat_minor": 2
}
